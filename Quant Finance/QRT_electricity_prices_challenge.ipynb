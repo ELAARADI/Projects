{
 "cells": [
  {
   "attachments": {
    "master_203_pic.jpg": {
     "image/jpeg": "[encoded data removed]"
    }
   },
   "cell_type": "markdown",
   "metadata": {},
   "source": [
    "![master_203_pic.jpg](attachment:master_203_pic.jpg)"
   ]
  },
  {
   "attachments": {},
   "cell_type": "markdown",
   "metadata": {},
   "source": [
    "# ML Competition & Project"
   ]
  },
  {
   "attachments": {},
   "cell_type": "markdown",
   "metadata": {},
   "source": [
    "## I - Introduction project and features:"
   ]
  },
  {
   "attachments": {},
   "cell_type": "markdown",
   "metadata": {},
   "source": [
    "The main objective of the project is to study the given data and use it in order to estimate the prices of the short term electricity futures(24h).\n",
    "However, putting aside the already high difficulty level of this task considering we're dealing with electricity prices, specifities of the dataset as well as the lack of  information will make it very difficult for us to have accurate predictions.\n",
    "\n",
    "We'll start by exploring the dataset and the nature of the features we're dealing with. \n",
    "\n",
    "Throughout the notebook, in order to compare predictions to the target, we will compare their distribution as well as their cumulative sum. The later isn't a natural go-to technique but we think that using the cumulative sum on a \"de_indexed\" series will give us a good, precise and concrete visulisation of the data series."
   ]
  },
  {
   "attachments": {},
   "cell_type": "markdown",
   "metadata": {},
   "source": [
    "#### Loading modules  "
   ]
  },
  {
   "cell_type": "code",
   "execution_count": 2,
   "metadata": {},
   "outputs": [],
   "source": [
    "import pandas as pd\n",
    "import numpy as np\n",
    "import matplotlib.pyplot as plt\n",
    "import seaborn as sns\n",
    "import copy\n",
    "\n",
    "import statsmodels.api as sm\n",
    "import xgboost as xgb\n",
    "from sklearn.linear_model import LassoCV\n",
    "from sklearn.linear_model import RidgeCV\n",
    "from sklearn.linear_model import LinearRegression\n",
    "from sklearn.model_selection import cross_val_predict\n",
    "from scipy.stats import spearmanr\n",
    "from sklearn.metrics import mean_squared_error\n",
    "\n",
    "\n",
    "import warnings\n",
    "warnings.filterwarnings(\"ignore\")"
   ]
  },
  {
   "attachments": {},
   "cell_type": "markdown",
   "metadata": {},
   "source": [
    "#### All the used functions\n"
   ]
  },
  {
   "cell_type": "code",
   "execution_count": 5,
   "metadata": {},
   "outputs": [],
   "source": [
    "def export_ens(df_test, pred_test, save=True, path_save=\"y_test_prediction.csv\"):\n",
    "    \"\"\"\n",
    "    Export submissions with the good ENS data challenge format.\n",
    "    df_test : (pandas dataframe) test set\n",
    "    proba_test : (numpy ndarray) prediction as a numpy ndarray you get using method .predict()\n",
    "    save : (bool) if set to True, it will save csv submission in path_save path.\n",
    "    path_save : (str) path where to save submission.\n",
    "    return : dataframe for submission\n",
    "    \"\"\"\n",
    "    df_submit = pd.Series(pred_test, index=df_test.index, name=\"TARGET\")\n",
    "    df_submit.to_csv(path_save, index=True)\n",
    "    return df_submit\n",
    "\n",
    "def check_test(result, expected, display_error):\n",
    "    \"\"\"\n",
    "    Testing your results.\n",
    "    \"\"\"\n",
    "    if result == expected:\n",
    "        print(\"1 test passed.\")\n",
    "    else:\n",
    "        print(display_error)\n",
    "\n",
    "def features_to_correct(df):\n",
    "    res = []\n",
    "    filtered = []\n",
    "    for col in df.columns:\n",
    "        if not df[[col]][df[col].isna()].empty:\n",
    "            for i in df[[col]][df[col].isna()].index:\n",
    "                if i not in filtered:\n",
    "                    filtered.append(i)\n",
    "    return filtered\n",
    "\n",
    "# Signal creation for modeling the price\n",
    "def signal(df,col,time_period = 500,eps = 10,interval_around_eps=2):\n",
    "    \"\"\"\n",
    "    Returns a DataFrame with booleans & a string: \n",
    "    \n",
    "    True: value equivalent to a value that is much higher than the mean \n",
    "    recorded in the previous observations + eps + interval_around_eps\n",
    "\n",
    "    Stagnant: corresponds to a stagnant evolution (an evolution around eps +/- interval_around_eps)\n",
    "\n",
    "    False: signifies a slowdown of the evolution below the mean of \n",
    "    the observations in the previous time_period + eps - interval_around_eps\n",
    "    \"\"\"\n",
    "    \n",
    "    res = pd.DataFrame(np.zeros((len(df),1)),index=df.index,columns=['counter'])\n",
    "    for i in range(len(df)):\n",
    "        if abs(col.cumsum().iloc[i]) > abs(col.cumsum().iloc[max(i-time_period,0):i].mean()) + eps + interval_around_eps:\n",
    "            res.counter.iloc[i] = True\n",
    "        elif abs(col.cumsum().iloc[i]) > abs(col.cumsum().iloc[max(i-time_period,0):i].mean()) + eps - interval_around_eps and abs(col.cumsum().iloc[i]) < abs(col.cumsum().iloc[max(i-time_period,0):i].mean()) + eps + interval_around_eps:\n",
    "            res.counter.iloc[i] = 'stagnant'\n",
    "        else:\n",
    "            res.counter.iloc[i] = False\n",
    "            \n",
    "    return res.counter\n",
    "\n",
    "def signal_int(df,col,time_period = 500,eps = 10):\n",
    "    \"\"\"\n",
    "    simpler version of signal function, returns 1s and 0s depending on the current evolution: \n",
    "    \n",
    "    1: value equivalent to a value that is much higher than the mean \n",
    "    recorded in the previous observations + eps \n",
    "    \n",
    "    0: signifies a slowdown of the evolution below the mean of \n",
    "    the observations in the previous time_period + eps\n",
    "    \"\"\"\n",
    "    \n",
    "    res = pd.DataFrame(np.zeros((len(df),1)),index=df.index,columns=['counter'])\n",
    "    for i in range(len(df)):\n",
    "        res.counter.iloc[i] = int(abs(col.cumsum().iloc[i]) > abs(col.cumsum().iloc[max(i-time_period,0):i].mean()) + eps)\n",
    "    return res.counter\n",
    "\n",
    "def trend_divider(df,mask,signal=False):\n",
    "    \"\"\"\n",
    "    if signal = True -> returns a list with the order of trues and falses in the analysed dataframe:\n",
    "    if signal = False -> returns a list of dataframes seperating the trues from the falses \n",
    "        -> end up with a list of dataframe with each containing trues or falses keeping \n",
    "        the original indexes \n",
    "    \n",
    "    mask: is a the output of the signal function and is used to seperate the original dataframe into smaller datasets\n",
    "    \"\"\"\n",
    "    # \n",
    "    \n",
    "    # initialize variables\n",
    "    start_index = 0\n",
    "    current_mask = mask.iloc[0]\n",
    "    dataframes = []\n",
    "\n",
    "    # iterate through rows and create new dataframes when mask changes\n",
    "    for i in range(1, len(mask)):\n",
    "        if mask.iloc[i] != current_mask:\n",
    "            new_df = df.iloc[start_index:i]\n",
    "            if signal == True:\n",
    "                dataframes.append(new_df.iloc[0])\n",
    "            else:\n",
    "                dataframes.append(new_df)\n",
    "            start_index = i\n",
    "            current_mask = mask.iloc[i]\n",
    "\n",
    "    # create final dataframe\n",
    "    new_df = df.iloc[start_index:]\n",
    "    if signal:\n",
    "        dataframes.append(new_df.iloc[0])\n",
    "    else:\n",
    "        dataframes.append(new_df)\n",
    "    \n",
    "    \n",
    "    return dataframes\n",
    "\n",
    "\n",
    "def regression(trends,trend_signal,y_train_val,col,col_index,\n",
    "               prediction_x_data = pd.DataFrame([]),time_period = 500, eps = 10):\n",
    "    \"\"\"\n",
    "    Takes as input the split up dataframes as well as if its Trues or Falses, the Target, \n",
    "        the considered most important column (or set of columns), and if the user wants to\n",
    "        have a prediction, he needs to enter the test dataset inputs (df_test).\n",
    "    \n",
    "    Goes through the various trends (of True and False) in the trends input, and at each step,\n",
    "    if its an upward trend (trend_signal=True): the function will fit the specified features on the target using a non_stagnant model\n",
    "    if its not (trend_signal=False): the function calls another model, the stagnant model and fits the input on the target.\n",
    "    \n",
    "    We end up with two models:\n",
    "        -> a stagnant model which is a simple linear regression fitted using all the selected features on the target\n",
    "        -> a non_stagnant model which is also a linear regression, fitting the specific feature(s) on the target\n",
    "    \n",
    "    Later on, we will analyse the specific feature(s) in the test set, extract the trends, and following these trends,\n",
    "    we predict using the stagnant or non stagnant model.\n",
    "    \n",
    "    Returns a prediction on the y feature using the train set if no test set is input in the parameters\n",
    "    otherwise, it will return a prediction of y using the test set features.\n",
    "    \n",
    "    \"\"\"\n",
    "    \n",
    "    pred = []\n",
    "    stagnant = LinearRegression()\n",
    "    non_stagnant = LinearRegression()\n",
    "\n",
    "    for i in range(len(trends)):\n",
    "        idx = trends[i].index\n",
    "        df = trends[i].reset_index(drop=True)\n",
    "        if not trend_signal[i]:\n",
    "            stagnant_model = stagnant.fit(df, y_train_val.filter(idx))\n",
    "            pred_train = stagnant_model.predict(df)\n",
    "            pred_train = pd.Series(pred_train, index=y_train_val.filter(idx).index)\n",
    "            pred.append(pred_train)\n",
    "        else:\n",
    "            non_stagnant_model = non_stagnant.fit(df[col], y_train_val.filter(idx))\n",
    "            pred_train = non_stagnant_model.predict(df[col])\n",
    "            pred_train = pd.Series(pred_train, index=y_train_val.filter(idx).index)\n",
    "            pred.append(pred_train)\n",
    "    pred_train = pd.concat(pred,axis=0,ignore_index=True)\n",
    "    \n",
    "    if not prediction_x_data.empty:\n",
    "        pred_t = []\n",
    "        x_test = prediction_x_data\n",
    "        best_interval = best_cushion(x_test,x_test[col[col_index]],np.arange(0.1,10,0.1))\n",
    "        signal_series = signal(x_test,x_test[col[col_index]],time_period,eps,interval_around_eps=best_interval)\n",
    "        trends = trend_divider(x_test,signal_series)\n",
    "        trend_signal = trend_divider(signal_series,signal_series,signal=True)\n",
    "        \n",
    "        for i in range(len(trends)):\n",
    "            idx = trends[i].index\n",
    "            df = trends[i].reset_index(drop=True)\n",
    "            if not trend_signal[i]: \n",
    "                pred_test = stagnant_model.predict(df)\n",
    "                pred_test = pd.Series(pred_test, index=idx)\n",
    "                pred_t.append(pred_test)\n",
    "            else:\n",
    "                pred_test = non_stagnant_model.predict(df[col])\n",
    "                pred_test = pd.Series(pred_test, index=idx)\n",
    "                pred_t.append(pred_test)\n",
    "                \n",
    "\n",
    "        pred_test = pd.concat(pred_t,axis=0,ignore_index=True)\n",
    "    \n",
    "    if not prediction_x_data.empty:\n",
    "        return pred_test  \n",
    "    else:\n",
    "        return pred_train\n",
    "\n",
    "def best_cushion(df,col,range_cushion):\n",
    "    \"\"\"\n",
    "    Tests for multiple values of intervals around eps.\n",
    "    \n",
    "    The objective is to find the interval value that minimizes the total nb of trends.\n",
    "    \"\"\"\n",
    "    res = {}\n",
    "    min_nb = 10\n",
    "    for i in range_cushion:\n",
    "        signal_series = signal(df,col,time_period=500,eps=10,interval_around_eps=i)\n",
    "        ref = [len(i) for i in trend_divider(df,signal_series)]\n",
    "        nb = sum([ref.count(i) for i in range(1,7)])\n",
    "        ref_idx = 0\n",
    "        if nb < min_nb:\n",
    "            min_nb = nb\n",
    "            ref_idx = i\n",
    "            ref_list = ref\n",
    "    return range_cushion[ref_idx]\n",
    "\n",
    "\n",
    "#Lasso regression\n",
    "def lasso_reg(data,y_data,features_data:pd.DataFrame,features_test_data:pd.DataFrame):\n",
    "    \"\"\"\n",
    "    simple lasso regression.\n",
    "    Returns the prediction on the trainset and the prediction on the testset.\n",
    "    \"\"\"\n",
    "    model_lasso = LassoCV(alphas=np.array([i for i in np.arange(1/1000,1,1/1000)]), fit_intercept=True, cv=20)\n",
    "    results_lasso = model_lasso.fit(data,y_data.filter(features_data.index).to_numpy())\n",
    "\n",
    "    pred = pd.Series(model_lasso.predict(features_data.to_numpy()),index=features_data.index)\n",
    "    pred_test = pd.Series(model_lasso.predict(features_test_data.to_numpy()),index=features_test_data.index)\n",
    "    \n",
    "    return pred , pred_test"
   ]
  },
  {
   "attachments": {},
   "cell_type": "markdown",
   "metadata": {},
   "source": [
    "## Data Exploration"
   ]
  },
  {
   "attachments": {},
   "cell_type": "markdown",
   "metadata": {},
   "source": [
    "#### Loading the datasets"
   ]
  },
  {
   "cell_type": "code",
   "execution_count": 6,
   "metadata": {},
   "outputs": [],
   "source": [
    "df_train = pd.read_csv(r\"data\\X_train_NHkHMNU.csv\")\n",
    "y = pd.read_csv(r\"data\\y_train_ZAN5mwg.csv\")\n",
    "df_test = pd.read_csv(r\"data\\X_test_final.csv\")\n",
    "\n",
    "n_rows_train = len(df_train)\n",
    "n_rows_test = len(df_test)\n",
    "\n",
    "df_train = df_train.set_index(\"ID\")\n",
    "df_y_train = y.set_index(\"ID\")[\"TARGET\"]\n",
    "df_test = df_test.set_index(\"ID\")"
   ]
  },
  {
   "attachments": {},
   "cell_type": "markdown",
   "metadata": {},
   "source": [
    "#### The distribution of the target\n"
   ]
  },
  {
   "cell_type": "code",
   "execution_count": null,
   "metadata": {},
   "outputs": [],
   "source": [
    "####################### Plot the histogram #######################\n",
    "plt.figure(figsize=[9, 4])\n",
    "plt.hist(df_y_train)\n",
    "plt.xlabel(\"target\")\n",
    "plt.ylabel(\"count\")\n",
    "plt.show()\n",
    "\n",
    "print(df_y_train.describe())"
   ]
  },
  {
   "cell_type": "code",
   "execution_count": null,
   "metadata": {},
   "outputs": [],
   "source": [
    "####################### Check for missing data ####################### \n",
    "\n",
    "missing = []\n",
    "for col in df_train.columns:\n",
    "    n_missing_train = df_train[col].isnull().sum()\n",
    "    n_missing_test = df_test[col].isnull().sum()\n",
    "    if n_missing_train != 0 or n_missing_test!=0:\n",
    "        missing.append(col)\n",
    "missing"
   ]
  },
  {
   "cell_type": "code",
   "execution_count": null,
   "metadata": {},
   "outputs": [],
   "source": [
    "####################### Extract the features with missing data and plot ####################### \n",
    "\n",
    "filtered = features_to_correct(df_train)\n",
    "filtered_test = features_to_correct(df_test)\n",
    "\n",
    "#get list of the union of all indexes where we have some missing data\n",
    "idx = pd.DataFrame(np.arange(0,len(filtered)).reshape(-1,1),index=filtered).index\n",
    "idx_test = pd.DataFrame(np.arange(0,len(filtered_test)).reshape(-1,1),index=filtered_test).index\n",
    "\n",
    "#filter and plot\n",
    "df_train.filter(idx,axis=0).sort_values('DAY_ID').drop(['DAY_ID'],axis=1)[missing].reset_index(drop=True).cumsum().plot(legend=False, figsize=(15,9))\n",
    "df_test.filter(idx_test,axis=0).sort_values('DAY_ID').drop(['DAY_ID'],axis=1)[missing].reset_index(drop=True).cumsum().plot(legend=False, figsize=(15,9))"
   ]
  },
  {
   "cell_type": "code",
   "execution_count": 12,
   "metadata": {},
   "outputs": [
    {
     "name": "stdout",
     "output_type": "stream",
     "text": [
      "No missing data anymore !\n"
     ]
    }
   ],
   "source": [
    "# Fill the missing values using interpolation method\n",
    "for col in df_train.drop('COUNTRY',axis=1).columns:\n",
    "    df_train[col] = df_train[col].interpolate()\n",
    "    df_test[col] =  df_test[col].fillna(df_test[col].mean())\n",
    "    \n",
    "# Interpolation doesn't work on the starting values\n",
    "# We do another check and fill the remaining missing values using the mean of the feature\n",
    "msg = True\n",
    "for col in df_train.drop('COUNTRY',axis=1).columns:\n",
    "    #first check\n",
    "    n_missing_train = df_train[col].isnull().sum()\n",
    "    n_missing_test = df_test[col].isnull().sum()\n",
    "    if n_missing_train != 0 or n_missing_test != 0:    \n",
    "        print(\"Column %s : missing in train set = %s / %s. In test set %s / %s\" % (col, n_missing_train, df_train.shape[0], n_missing_test, df_test.shape[0]))\n",
    "        print(\"___________________________________________________________________\")\n",
    "    #fill with the mean\n",
    "    df_train[col] =  df_train[col].fillna(df_train[col].mean())\n",
    "    df_test[col] =  df_test[col].fillna(df_test[col].mean())\n",
    "    #final check\n",
    "    n_missing_train = df_train[col].isnull().sum()\n",
    "    n_missing_test = df_test[col].isnull().sum()\n",
    "    \n",
    "    if n_missing_train != 0 or n_missing_test != 0:\n",
    "        msg = False\n",
    "        print(\"Column %s : missing in train set = %s / %s. In test set %s / %s\" % (col, n_missing_train, df_train.shape[0], n_missing_test, df_test.shape[0]))\n",
    "if msg:\n",
    "    print(\"No missing data anymore !\")"
   ]
  },
  {
   "attachments": {},
   "cell_type": "markdown",
   "metadata": {},
   "source": [
    "After having filled all the missing data, we find that our dataset contains some outliers, so we correct for observations **7 standard deviations** away from the mean"
   ]
  },
  {
   "cell_type": "code",
   "execution_count": null,
   "metadata": {},
   "outputs": [],
   "source": [
    "for col in df_train.drop('COUNTRY',axis=1).columns:\n",
    "    upper_limit = df_train[col].mean() + 7*df_train[col].std()\n",
    "    lower_limit = df_train[col].mean() - 7*df_train[col].std()\n",
    "    for j in df_train.index:\n",
    "        if df_train[col].loc[j] > upper_limit or df_train[col].loc[j] < lower_limit :\n",
    "            df_train[col].loc[j] = df_train[col].mean()\n",
    "\n",
    "for col in df_test.drop('COUNTRY',axis=1).columns:\n",
    "    upper_limit = df_test[col].mean() + 7*df_test[col].std()\n",
    "    lower_limit = df_test[col].mean() - 7*df_test[col].std()\n",
    "    for j in df_test.index:\n",
    "        if df_test[col].loc[j] > upper_limit or df_test[col].loc[j] < lower_limit :\n",
    "            df_test[col].loc[j] = df_test[col].mean()\n",
    "            \n",
    "df_train.filter(idx,axis=0).sort_values('DAY_ID').drop(['DAY_ID'],axis=1)[missing].reset_index(drop=True).cumsum().plot(legend=False, figsize=(15,9))\n",
    "df_test.filter(idx_test,axis=0).sort_values('DAY_ID').drop(['DAY_ID'],axis=1)[missing].reset_index(drop=True).cumsum().plot(legend=False, figsize=(15,9)) "
   ]
  },
  {
   "attachments": {},
   "cell_type": "markdown",
   "metadata": {},
   "source": [
    "### II - Features Engineering"
   ]
  },
  {
   "attachments": {},
   "cell_type": "markdown",
   "metadata": {},
   "source": [
    "We first started with the main features, checked how much of the variance its explaining.\n",
    "\n",
    "We start by adding the FR_RENEWABLE, DE_RENEWABLE features we already worked with in class. we then use the same logic to add the rest of the energy sources taking into account their ratios: we end up with the FR_OTHER and DE_OTHER.\n",
    "\n",
    "We will later on explore other features that could be useful such as:\n",
    "- Computing a feature that contains a weighing of the consumption of each country\n",
    "- Since Wind and Rain are zone related features, we created a feature containing the sum of both countries for each feature\n",
    "- Exponential features\n",
    "\n",
    "*! - We get rid of the mean for all the features keeping only the variations.*\n",
    "\n",
    "We then analyze features individually vs the target in order to assess if they're more helpful to us in their linear, squared or exponential form.\n"
   ]
  },
  {
   "cell_type": "code",
   "execution_count": 14,
   "metadata": {},
   "outputs": [],
   "source": [
    "# Features related to energy sources\n",
    "df_train[\"FR_RENEWABLE\"]            = ((df_train.FR_SOLAR/df_train.FR_SOLAR.mean())*0.0216 + (df_train.FR_WINDPOW*0.0634/df_train.FR_WINDPOW.mean())).fillna(0)\n",
    "df_test[\"FR_RENEWABLE\"]             = ((df_test.FR_SOLAR/df_test.FR_SOLAR.mean())*0.0216 + (df_test.FR_WINDPOW*0.0634/df_test.FR_WINDPOW.mean())).fillna(0)\n",
    "\n",
    "df_train[\"DE_RENEWABLE\"]            = ((df_train.DE_SOLAR/df_train.DE_SOLAR.mean())*0.09 + (df_train.DE_WINDPOW/df_train.DE_WINDPOW.mean())*0.204).fillna(0)\n",
    "df_test[\"DE_RENEWABLE\"]             = ((df_test.DE_SOLAR/df_test.DE_SOLAR.mean())*0.09 + (df_test.DE_WINDPOW/df_test.DE_WINDPOW.mean())*0.204).fillna(0)\n",
    "\n",
    "df_train[\"FR_OTHER\"]                = ((df_train.FR_NUCLEAR/df_train.FR_NUCLEAR.mean()) *0.7058 + (df_train.FR_HYDRO/df_train.FR_HYDRO.mean())*0.1116 + (df_train.FR_GAS/df_train.FR_GAS.mean())*0.0718 ).fillna(0)\n",
    "df_test[\"FR_OTHER\"]                 = ((df_test.FR_NUCLEAR/df_test.FR_NUCLEAR.mean()) *0.7058 + (df_test.FR_HYDRO/df_test.FR_HYDRO.mean())*0.1116 + (df_test.FR_GAS/df_test.FR_GAS.mean())*0.0718 ).fillna(0)\n",
    "\n",
    "df_train[\"DE_OTHER\"]                = ((df_train.DE_NUCLEAR/df_train.DE_NUCLEAR.mean()) *0.117 + (df_train.DE_COAL/df_train.DE_COAL.mean())*0.234 + (df_train.DE_LIGNITE/df_train.DE_LIGNITE.mean())*0.234 ).fillna(0)\n",
    "df_test[\"DE_OTHER\"]                 = ((df_test.DE_NUCLEAR/df_test.DE_NUCLEAR.mean()) *0.117 + (df_test.DE_COAL/df_test.DE_COAL.mean())*0.234 + (df_test.DE_LIGNITE/df_test.DE_LIGNITE.mean())*0.234 ).fillna(0)"
   ]
  },
  {
   "attachments": {},
   "cell_type": "markdown",
   "metadata": {},
   "source": [
    "##### A - First we want to have an idea on the correlation between the features themselves and the features vs the target"
   ]
  },
  {
   "cell_type": "code",
   "execution_count": null,
   "metadata": {},
   "outputs": [],
   "source": [
    "corr_df = copy.deepcopy(df_train)\n",
    "corr_df['y'] = df_y_train\n",
    "\n",
    "corr = corr_df.corr()\n",
    "mask = np.triu(np.ones_like(corr, dtype=bool))\n",
    "f, ax = plt.subplots(figsize=(13, 9))\n",
    "cmap = sns.diverging_palette(230, 20, as_cmap=True)\n",
    "sns.heatmap(corr, mask=mask, cmap=cmap, vmax=1., center=0,\n",
    "            square=True, linewidths=.5, cbar_kws={\"shrink\": .5})"
   ]
  },
  {
   "attachments": {},
   "cell_type": "markdown",
   "metadata": {},
   "source": [
    "#### B - Regressing different versions of the features with the target"
   ]
  },
  {
   "attachments": {},
   "cell_type": "markdown",
   "metadata": {},
   "source": [
    "This representation allows us to first get an idea on the relationship of each feature with the target on multiple levels: linear, quadratic and exponential.\n",
    "\n",
    "At first the idea was to only get the 1st order. However, after checking the results of these & manually checking the graphs of each features, we decided to add the 2nd order in order to catch some hidden variations.\n",
    "\n",
    "Then again, after another round of checkups, we find features which contained some very stagnant values / very limited variations. This is why we add a comparison of the exponential of the features vs the target (with a first order linear regression)\n",
    "\n",
    "Throughout these comparisons, we use the $R^{2}$ estimate from the score function to have an idea on the usefulness of each feature"
   ]
  },
  {
   "cell_type": "code",
   "execution_count": null,
   "metadata": {},
   "outputs": [],
   "source": [
    "############### <!> careful not to rerun it once the exp features are added ####################\n",
    "############################## Takes some time to compute (10mn) ! #############################\n",
    "\n",
    "model = LinearRegression()\n",
    "y = df_y_train\n",
    "fig, axs = plt.subplots(len(df_train.drop(['DAY_ID','COUNTRY'],axis=1).columns), 3, figsize=(15, 100))\n",
    "dic = {}\n",
    "\n",
    "for idx_col,col in enumerate(df_train.drop(['DAY_ID','COUNTRY'],axis=1).columns):\n",
    "   \n",
    "    X = df_train[col].values.reshape(-1,1)\n",
    "    model.fit(X, y)\n",
    "    \n",
    "    # Plot a linear regression\n",
    "    r_sq = model.score(X, y)\n",
    "    dic[f'{col}'] = r_sq\n",
    "    sns.regplot(x=X, y=y, x_ci = 95, order=1, line_kws={\"color\": \"red\"}, ax=axs[idx_col,0])\n",
    "    axs[idx_col,0].set_title(f\"Regression on {col} with $100 x R^{2}$:\" +  str(round(100*r_sq,2)))\n",
    "    axs[idx_col,0].set(xlabel=col, ylabel=\"TARGET\")\n",
    "   \n",
    "    # Plot a polynomial (order 2) regression\n",
    "    r_sq = model.score(X**2, y)\n",
    "    dic[f'{col}_2'] = r_sq\n",
    "    sns.regplot(x=X, y=y, x_ci = 95, order=2, label = \" $100 x R^{2}$ :\" +  str(round(100*r_sq,2)) + \"$\", line_kws={\"color\": \"red\"}, ax=axs[idx_col,1])\n",
    "    axs[idx_col,1].set_title(f\"Regression Order 2 with $100 x R^{2}$ :\" +  str(round(100*r_sq,2)))\n",
    "    axs[idx_col,1].set(xlabel=col, ylabel=\"TARGET\")\n",
    "    \n",
    "    X = np.exp(X)\n",
    "    # Plot an exponential regression\n",
    "    r_sq = model.score(X, y)\n",
    "    dic[f'{col}_exp'] = r_sq\n",
    "    sns.regplot(x=X, y=y, x_ci = 95, order=1, label = \" $100 x R^{2}$ :\" +  str(round(100*r_sq,2)) + \"$\", line_kws={\"color\": \"red\"}, ax=axs[idx_col,2])\n",
    "    axs[idx_col,2].set_title(f\"Regression exp(X) with $100 x R^{2}$ :\" +  str(round(100*r_sq,2)))\n",
    "    axs[idx_col,2].set(xlabel=col, ylabel=\"TARGET\")\n",
    "   \n",
    "plt.tight_layout()\n",
    "plt.show()"
   ]
  },
  {
   "attachments": {},
   "cell_type": "markdown",
   "metadata": {},
   "source": [
    "-> We add weather features cumulating the features of each country\n",
    "\n",
    "-> We select the features that manifest a good $R^{2}$ in their exponential form vs the target and we add such their exponentials as features"
   ]
  },
  {
   "cell_type": "code",
   "execution_count": 17,
   "metadata": {},
   "outputs": [],
   "source": [
    "df_train[\"relative_CONSUMPTION\"]    = (0.5164 * (df_train.DE_CONSUMPTION /df_train.DE_CONSUMPTION.mean()) + 0.4835 * (df_train.FR_CONSUMPTION/df_train.FR_CONSUMPTION.mean())).fillna(0.)\n",
    "df_test[\"relative_CONSUMPTION\"]     = (0.5164 * (df_test.DE_CONSUMPTION/df_test.DE_CONSUMPTION.mean()) + 0.4835 * (df_test.FR_CONSUMPTION/df_test.FR_CONSUMPTION.mean())).fillna(0.)\n",
    "df_train[\"CUM_WINDPOW\"]             = ((df_train.DE_WINDPOW/df_train.DE_WINDPOW.mean()) + (df_train.FR_WINDPOW/df_train.FR_WINDPOW.mean())).fillna(0.)\n",
    "df_test[\"CUM_WINDPOW\"]              = ((df_test.DE_WINDPOW/df_test.DE_WINDPOW.mean()) + (df_test.FR_WINDPOW/df_test.FR_WINDPOW.mean())).fillna(0.)\n",
    "df_train[\"CUM_WIND\"]                = ((df_train.DE_WIND/df_train.DE_WIND.mean()) + (df_train.FR_WIND/df_train.FR_WIND.mean())).fillna(0.)\n",
    "df_test[\"CUM_WIND\"]                 = ((df_test.DE_WIND/df_test.DE_WIND.mean()) + (df_test.FR_WIND/df_test.FR_WIND.mean())).fillna(0.)\n",
    "df_train[\"CUM_RAIN\"]                = ((df_train.DE_RAIN/df_train.DE_RAIN.mean()) + (df_train.FR_RAIN/df_train.FR_RAIN.mean())).fillna(0.)\n",
    "df_test[\"CUM_RAIN\"]                 = ((df_test.DE_RAIN/df_test.DE_RAIN.mean()) + (df_test.FR_RAIN/df_test.FR_RAIN.mean())).fillna(0.)\n",
    "df_train[\"CUM_TEMP\"]                = ((df_train.DE_TEMP/df_train.DE_TEMP.mean()) + (df_train.FR_TEMP/df_train.FR_TEMP.mean())).fillna(0.)\n",
    "df_test[\"CUM_TEMP\"]                 = ((df_test.DE_TEMP/df_test.DE_TEMP.mean()) + (df_test.FR_TEMP/df_test.FR_TEMP.mean())).fillna(0.)\n",
    "\n",
    "\n",
    "df_train[\"EXP_exchange\"]            = np.exp(df_train.DE_FR_EXCHANGE)\n",
    "df_train[\"EXP_DE_GAS\"]              = np.exp(df_train.DE_GAS)\n",
    "df_train[\"EXP_FR_GAS\"]              = np.exp(df_train.FR_GAS)\n",
    "df_train[\"EXP_DE_NUCLEAR\"]          = np.exp(df_train.DE_NUCLEAR)\n",
    "df_train[\"EXP_FR_NUCLEAR\"]          = np.exp(df_train.FR_NUCLEAR)\n",
    "df_train[\"EXP_DE_LIGNITE\"]          = np.exp(df_train.DE_LIGNITE)\n",
    "df_train[\"EXP_DE_RAIN\"]             = np.exp(df_train.DE_RAIN)\n",
    "df_train[\"EXP_FR_RAIN\"]             = np.exp(df_train.FR_RAIN)\n",
    "\n",
    "\n",
    "df_test[\"EXP_exchange\"]             = np.exp(df_test.DE_FR_EXCHANGE)\n",
    "df_test[\"EXP_DE_GAS\"]               = np.exp(df_test.DE_GAS)\n",
    "df_test[\"EXP_FR_GAS\"]               = np.exp(df_test.FR_GAS)\n",
    "df_test[\"EXP_DE_NUCLEAR\"]           = np.exp(df_test.DE_NUCLEAR)\n",
    "df_test[\"EXP_FR_NUCLEAR\"]           = np.exp(df_test.FR_NUCLEAR)\n",
    "df_test[\"EXP_DE_LIGNITE\"]           = np.exp(df_test.DE_LIGNITE)\n",
    "df_test[\"EXP_DE_RAIN\"]              = np.exp(df_test.DE_RAIN)\n",
    "df_test[\"EXP_FR_RAIN\"]              = np.exp(df_test.FR_RAIN)"
   ]
  },
  {
   "attachments": {},
   "cell_type": "markdown",
   "metadata": {},
   "source": [
    "### III- Features selection and the various attempts at price modelling"
   ]
  },
  {
   "attachments": {},
   "cell_type": "markdown",
   "metadata": {},
   "source": [
    "The first step for us will be to use the previously found results($R^{2}$ results, correlation heatmap) in order to start a very early features selection.\n",
    "\n",
    "Then we will use the spearmann correlation in order to check if the selected features hold some explanative power"
   ]
  },
  {
   "attachments": {},
   "cell_type": "markdown",
   "metadata": {},
   "source": [
    "We end up still with a lot of features, some of which are most likely correlated or even highly correlated. \n",
    "\n",
    "In order to deal with this colinearity issue, we will start by regressing each of the features vs all of our features and identify the highly correlated features.\n",
    "-> this approach can be very labor intensive and requires a lot of manipulations and tweeking in order to have some correct results.\n",
    "\n",
    "We will proceed by using the seaborn Pairplot function in order to have a complete comparison for each feature vs all the others. This will allow us to:\n",
    "- Identify colinear features\n",
    "- Have a visual on the distribution of each feature"
   ]
  },
  {
   "cell_type": "code",
   "execution_count": null,
   "metadata": {},
   "outputs": [],
   "source": [
    "####################### Careful with this cell, might take too long (1h) #######################\n",
    "\n",
    "initial_features = df_train.drop('DAY_ID',axis=1).columns\n",
    "corr_df = copy.deepcopy(df_train[initial_features])\n",
    "corr_df['y'] = df_y_train\n",
    "sns.pairplot(corr_df[initial_features],hue='COUNTRY')"
   ]
  },
  {
   "attachments": {},
   "cell_type": "markdown",
   "metadata": {},
   "source": [
    "We start by picking the features ourselves for a simple linear regression model.\n",
    "\n",
    "The main logic for picking the features is as follows:\n",
    "- We pick the FR_CONSUMPTION since it contains nearly the same info as the target\n",
    "- We pick one EXCHANGE feature since they're both symetric\n",
    "- the DE_NET_EXPORT and FR_NET_EXPORT since they contain important info on the exports of each country (and imports since symetric)\n",
    "- Energy related features with Renewable and other energy sources\n",
    "- other features that we thought might add some explanative power"
   ]
  },
  {
   "cell_type": "code",
   "execution_count": null,
   "metadata": {},
   "outputs": [],
   "source": [
    "x_train = df_train[['FR_CONSUMPTION', 'DE_FR_EXCHANGE', 'DE_NET_EXPORT', \n",
    "                    'FR_NET_EXPORT', 'DE_RAIN', 'FR_HYDRO','DE_RESIDUAL_LOAD',\n",
    "                    'FR_RENEWABLE', 'DE_RENEWABLE', 'FR_OTHER', 'DE_OTHER']]\n",
    "\n",
    "x_test = df_test[['FR_CONSUMPTION', 'DE_FR_EXCHANGE', 'DE_NET_EXPORT', \n",
    "                    'FR_NET_EXPORT', 'DE_RAIN', 'FR_HYDRO','DE_RESIDUAL_LOAD',\n",
    "                    'FR_RENEWABLE', 'DE_RENEWABLE', 'FR_OTHER', 'DE_OTHER']]\n",
    "\n",
    "clf = LinearRegression()\n",
    "pred_val = cross_val_predict(clf, x_train, df_y_train)\n",
    "pred_val = pd.Series(pred_val, index=df_y_train.index)\n",
    "\n",
    "data_df = x_train.to_numpy()\n",
    "\n",
    "# Ridge regression\n",
    "model_ridge = RidgeCV(alphas=np.array([i for i in np.arange(1/1000,1,1/1000)]), fit_intercept=True, cv=20)\n",
    "results_ridge = model_ridge.fit(data_df,df_y_train.to_numpy())\n",
    "\n",
    "pred_train = pd.Series(model_ridge.predict(x_train.to_numpy()),index=x_train.index)\n",
    "pred_test = pd.Series(model_ridge.predict(x_test.to_numpy()),index=x_test.index) \n",
    "\n",
    "plt.plot(pred_train.reset_index(drop=True).cumsum(),'b') \n",
    "plt.plot(pred_val.reset_index(drop=True).cumsum())\n",
    "plt.plot(df_y_train.reset_index(drop=True).cumsum(),'g')\n",
    "plt.show()\n",
    "\n",
    "plt.plot(pred_test.reset_index(drop=True).cumsum())"
   ]
  },
  {
   "attachments": {},
   "cell_type": "markdown",
   "metadata": {},
   "source": [
    " Countinuing with the same logic : \n",
    "\n",
    "We get rid of the highly colinear features (leaving only one). We then perform a simple lasso regression in order to get rid of the hidden correlations between the features and end up with only the \"uncorrelated\" features that are most helpful in simulating the target."
   ]
  },
  {
   "cell_type": "code",
   "execution_count": 21,
   "metadata": {},
   "outputs": [],
   "source": [
    "data_df = df_train[initial_features].drop('COUNTRY',axis=1).to_numpy()\n",
    "\n",
    "# Lasso regression for factor sensitivities\n",
    "model_lasso = LassoCV(alphas=np.array([i for i in np.arange(1/1000,1,1/1000)]), fit_intercept=True, cv=20)\n",
    "results_lasso = model_lasso.fit(data_df,df_y_train.to_numpy())\n",
    "\n",
    "# Key features selected by the Lasso model\n",
    "lasso_selection = pd.DataFrame([results_lasso.coef_],index=['lasso'],columns=df_train[initial_features].drop('COUNTRY',axis=1).columns)\n",
    "lasso_factors = lasso_selection.T[lasso_selection.T != 0].dropna().index.values"
   ]
  },
  {
   "attachments": {},
   "cell_type": "markdown",
   "metadata": {},
   "source": [
    "The particularity with a Lasso regression is that it allows us to get rid of some features entirely but it also makes the model not so rigid in terms of features: **one small change in the model/observations can cause the Lasso regression to change the chosen features.** So our use here of the lasso allows us to get rid of the non necessary features. \n",
    "\n",
    "Now that we have the selected features, we will use them in a Ridge regression in order to have a regression that **uses all of these features and that is robust in terms of used features**."
   ]
  },
  {
   "cell_type": "code",
   "execution_count": null,
   "metadata": {},
   "outputs": [],
   "source": [
    "x_train = df_train[lasso_factors]\n",
    "x_test = df_test[lasso_factors]\n",
    "\n",
    "clf = LinearRegression()\n",
    "pred_val = cross_val_predict(clf, x_train, df_y_train)\n",
    "pred_val = pd.Series(pred_val, index=df_y_train.index)\n",
    "\n",
    "data_df = x_train.to_numpy()\n",
    "\n",
    "# Ridge regression using all the factors selected by the Lasso\n",
    "model_ridge = RidgeCV(alphas=np.array([i for i in np.arange(1/1000,1,1/1000)]), fit_intercept=True, cv=20)\n",
    "results_ridge = model_ridge.fit(data_df,df_y_train.to_numpy())\n",
    "\n",
    "pred_train = pd.Series(model_ridge.predict(x_train.to_numpy()),index=x_train.index)\n",
    "pred_test = pd.Series(model_ridge.predict(x_test.to_numpy()),index=x_test.index)\n",
    "\n",
    "plt.plot(pred_train.reset_index(drop=True).cumsum(),'b')\n",
    "plt.plot(pred_val.reset_index(drop=True).cumsum(),'r')\n",
    "plt.plot(df_y_train.reset_index(drop=True).cumsum(),'g')\n",
    "plt.show()\n",
    "\n",
    "plt.plot(pred_test.reset_index(drop=True).cumsum())\n"
   ]
  },
  {
   "attachments": {},
   "cell_type": "markdown",
   "metadata": {},
   "source": [
    "We give a quick try to the XGBoost library and fearing that it will take a lot of time to calibrate such model -> we decided to give up on this approach"
   ]
  },
  {
   "cell_type": "code",
   "execution_count": null,
   "metadata": {},
   "outputs": [],
   "source": [
    "seventy_percent_data = int(0.7 * len(x_train))\n",
    "x_train_set = x_train[:seventy_percent_data]\n",
    "x_val = x_train[seventy_percent_data:]\n",
    "y_train_set = df_y_train[:seventy_percent_data]\n",
    "y_val = df_y_train[seventy_percent_data:]\n",
    "\n",
    "# XGBOOST\n",
    "# linear regression\n",
    "\n",
    "reg = xgb.XGBRegressor(n_estimators= 1000, early_stopping_rounds=50, learning_rate = 0.01)\n",
    "reg.fit(x_train_set, y_train_set, eval_set=[(x_train_set, y_train_set), (x_val, y_val)], verbose=50)\n",
    "pred_train = reg.predict(x_train)\n",
    "pred_train = pd.Series(pred_train, index=df_y_train.index)\n",
    "\n",
    "plt.plot(pred_train.reset_index(drop=True).cumsum(),'b')\n",
    "plt.plot(pred_val.reset_index(drop=True).cumsum())\n",
    "plt.plot(df_y_train.reset_index(drop=True).cumsum(),'g')\n",
    "plt.show()"
   ]
  },
  {
   "attachments": {},
   "cell_type": "markdown",
   "metadata": {},
   "source": [
    "Then, after checking the features, we noticed that some of these had similar patterns as the target and so, we had the idea to create a signal based on some of these features and try to fit the model around them.\n",
    "\n",
    "The main **hypothesis** is that a big portion of the variations in the target are caused by a single feature(or a very limited nb of features)\n",
    "\n",
    "The logic is as follows:\n",
    "- We choose a single feature (or multiple features: list of features)\n",
    "- We go along the path of the feature and check if it gets out of a fixed interval around its current observation:\n",
    "    - if the difference between the evolution of the feature and the previous mean evolution is above a certain treshold (eps + cushion) we return True\n",
    "    - if its between (eps + cushion) and (eps - cushion) then we consider it to be stagnant\n",
    "    - otherwise we return False\n",
    "    -> the states True and False represents the states of the feature where its explosive and where its not.\n",
    "- Now that we have our \"signal\", we use it to perform various linear regressions alternating between states where we regress on all our features and other states where we regress only on the single feature.\n",
    "\n",
    "We obtain the following results:"
   ]
  },
  {
   "cell_type": "code",
   "execution_count": null,
   "metadata": {},
   "outputs": [],
   "source": [
    "x_train = df_train[['FR_CONSUMPTION', 'DE_FR_EXCHANGE', 'DE_NET_EXPORT', \n",
    "                    'FR_NET_EXPORT', 'DE_RAIN', 'FR_HYDRO','DE_RESIDUAL_LOAD',\n",
    "                    'FR_RENEWABLE', 'DE_RENEWABLE', 'FR_OTHER', 'DE_OTHER']]\n",
    "\n",
    "x_test = df_test[['FR_CONSUMPTION', 'DE_FR_EXCHANGE', 'DE_NET_EXPORT', \n",
    "                    'FR_NET_EXPORT', 'DE_RAIN', 'FR_HYDRO','DE_RESIDUAL_LOAD',\n",
    "                    'FR_RENEWABLE', 'DE_RENEWABLE', 'FR_OTHER', 'DE_OTHER']]\n",
    "\n",
    "best_interval = best_cushion(x_train,x_train.FR_CONSUMPTION,np.arange(0.1,10,0.1))\n",
    "signal_series = signal(x_train,x_train.FR_CONSUMPTION,time_period=500,eps=10,interval_around_eps=best_interval)\n",
    "trends = trend_divider(x_train,signal_series)\n",
    "trend_signal = trend_divider(signal_series,signal_series,signal=True)\n",
    "\n",
    "pred_train = regression(trends,trend_signal,df_y_train,col=['FR_CONSUMPTION','FR_HYDRO'],col_index=0)\n",
    "pred_test = regression(trends,trend_signal,df_y_train,col=['FR_CONSUMPTION','FR_HYDRO'],col_index=0,prediction_x_data = x_test)\n",
    "pred_test.index=x_test.index\n",
    "\n",
    "plt.plot(pred_train.reset_index(drop=True).cumsum(),'b')\n",
    "plt.plot(pred_val.reset_index(drop=True).cumsum())\n",
    "plt.plot(df_y_train.reset_index(drop=True).cumsum(),'g')\n",
    "plt.show()\n",
    "\n",
    "plt.plot(pred_test.reset_index(drop=True).cumsum())"
   ]
  },
  {
   "attachments": {},
   "cell_type": "markdown",
   "metadata": {},
   "source": [
    "The issue with this approach is as follows: signal ok on trainset, but is too much of an overfit and it shows on the test set results.\n",
    "\n",
    "We will probably need to find a way to get rid of these types of classifications (maybe logistic regression on the feature's variance ?)\n",
    "\n",
    "This approach also takes into account the data as if its a time series. bad model for the dataset we have. \n",
    "\n",
    "The signal in itself is very rigid and doesn't really take into account the different variations of the target: \n",
    "- we maybe will need to create a third model that takes into account the stagnant periods on their own.\n",
    "- the usage of the absolute value may be false/incorrect in this scope, since usually in financial markets prices behave differently in positive vs negative performance periods."
   ]
  },
  {
   "attachments": {},
   "cell_type": "markdown",
   "metadata": {},
   "source": [
    "### PCA & Variance\n",
    "\n",
    "Keeping the same mindset of trying to capture the variance using some techniques or using a specific set of features, we decide to use the PCA on the covariance matrix of all the features.\n"
   ]
  },
  {
   "cell_type": "code",
   "execution_count": null,
   "metadata": {},
   "outputs": [],
   "source": [
    "from statsmodels.multivariate.pca import PCA as PCA\n",
    "from sklearn import preprocessing\n",
    "\n",
    "x_train = df_train[['DE_CONSUMPTION', 'FR_CONSUMPTION', 'DE_FR_EXCHANGE',\n",
    "       'DE_NET_EXPORT', 'FR_NET_EXPORT', 'DE_RAIN', 'FR_RAIN',\n",
    "       'DE_RESIDUAL_LOAD', 'FR_RESIDUAL_LOAD','DE_RENEWABLE','FR_RENEWABLE',\n",
    "       'CUM_WINDPOW', 'FR_OTHER', 'DE_OTHER']]\n",
    "\n",
    "x_test = df_test[['DE_CONSUMPTION', 'FR_CONSUMPTION', 'DE_FR_EXCHANGE',\n",
    "       'DE_NET_EXPORT', 'FR_NET_EXPORT', 'DE_RAIN', 'FR_RAIN',\n",
    "       'DE_RESIDUAL_LOAD', 'FR_RESIDUAL_LOAD','DE_RENEWABLE','FR_RENEWABLE',\n",
    "       'CUM_WINDPOW', 'FR_OTHER', 'DE_OTHER']]\n",
    "\n",
    "cov = x_train.cov()\n",
    "test_cov = x_test.cov()\n",
    "\n",
    "nb_fact = 3\n",
    "\n",
    "####################### Train Set #######################\n",
    "y = preprocessing.scale(cov.to_numpy())\n",
    "pca_out=PCA((y))\n",
    "pca_comp=pca_out.factors\n",
    "pca_eval=pca_out.eigenvals\n",
    "pca_var=pca_eval/np.sum(pca_eval)\n",
    "plt.bar(np.arange(len(pca_var)),pca_var)\n",
    "plt.show()\n",
    "\n",
    "print(sum(pca_var[:nb_fact]))\n",
    "x_variance_factors = pca_comp.T[:nb_fact]\n",
    "\n",
    "####################### Test Set #######################\n",
    "y = preprocessing.scale(test_cov.to_numpy())\n",
    "pca_out=PCA((y))\n",
    "pca_comp=pca_out.factors\n",
    "pca_eval=pca_out.eigenvals\n",
    "pca_var=pca_eval/np.sum(pca_eval)\n",
    "plt.bar(np.arange(len(pca_var)),pca_var)\n",
    "plt.show()\n",
    "\n",
    "print(sum(pca_var[:nb_fact]))\n",
    "test_variance_factors = pca_comp.T[:nb_fact]"
   ]
  },
  {
   "cell_type": "code",
   "execution_count": 23,
   "metadata": {},
   "outputs": [],
   "source": [
    "factors = np.zeros((len(x_variance_factors),len(x_train)))\n",
    "test_factors = np.zeros((len(test_variance_factors),len(x_test)))\n",
    "for i in range(len(x_variance_factors)):\n",
    "    factors[i,:] = np.dot(x_variance_factors[i,:],x_train.to_numpy().T)\n",
    "    test_factors[i,:] = np.dot(test_variance_factors[i,:],x_test.to_numpy().T)\n",
    "\n",
    "# Ridge regression to model the covariance of the target using ALL the PCA features\n",
    "model_ridge = RidgeCV(alphas=np.array([i for i in np.arange(1/1000,1,1/1000)]), fit_intercept=True, cv=20)\n",
    "results_ridge = model_ridge.fit(factors.T,df_y_train.to_numpy()-df_y_train.mean())\n",
    "\n",
    "y_variance_pred = model_ridge.predict(factors.T)\n",
    "variance_pred = model_ridge.predict(test_factors.T)\n",
    "\n",
    "\n",
    "# Lasso regression to model the mean variations of the target using the most useful features\n",
    "model_ridge = LassoCV(alphas=np.array([i for i in np.arange(1/1000,1,1/1000)]), fit_intercept=True, cv=20)\n",
    "results_ridge = model_ridge.fit(x_train.to_numpy(),df_y_train.to_numpy()-df_y_train.std())\n",
    "\n",
    "y_trend_pred = model_ridge.predict(x_train.to_numpy())\n",
    "trend_pred = model_ridge.predict(x_test.to_numpy())\n",
    "\n",
    "\n",
    "# Set all the data in a dataframe for the next and final regression\n",
    "df_data = pd.Series(y_trend_pred, name='trend',index=df_y_train.index).to_frame()\n",
    "df_data['variance'] = y_variance_pred\n",
    "\n",
    "df_test_data = pd.Series(trend_pred, name='trend',index=x_test.index).to_frame()\n",
    "df_test_data['variance'] = variance_pred"
   ]
  },
  {
   "cell_type": "code",
   "execution_count": null,
   "metadata": {},
   "outputs": [],
   "source": [
    "# Ridge regression to make sure to use all the created features\n",
    "model_ridge = RidgeCV(alphas=np.array([i for i in np.arange(1/1000,1,1/1000)]), fit_intercept=True, cv=7)\n",
    "results_ridge = model_ridge.fit(df_data.to_numpy(),df_y_train.to_numpy())\n",
    "\n",
    "pred_train = pd.Series(model_ridge.predict(df_data.to_numpy()),index=df_data.index)\n",
    "pred_test = pd.Series(model_ridge.predict(df_test_data.to_numpy()),index=df_test_data.index)\n",
    "\n",
    "\n",
    "plt.plot(pred_train.reset_index(drop=True).cumsum(),'b')\n",
    "plt.plot(pred_val.reset_index(drop=True).cumsum())\n",
    "plt.plot(df_y_train.reset_index(drop=True).cumsum(),'g')\n",
    "plt.show()\n",
    "\n",
    "plt.plot(pred_test.reset_index(drop=True).cumsum())"
   ]
  },
  {
   "attachments": {},
   "cell_type": "markdown",
   "metadata": {},
   "source": [
    "This approach has its merits, but I think that we are losing a lot of the information hidden in the data by going through so many transformations.\n",
    "\n",
    "It would be a better idea to do a different split, minimize the number of transformations and reintegrate the created features back into the final model which will be used for the predictions.\n",
    "\n",
    "We now decide to opt for a split per country, the features are selected using previous results. We apply two different Lasso regressions to the two datasets and then regroup everything using a ridge regression along with some other key features."
   ]
  },
  {
   "cell_type": "code",
   "execution_count": null,
   "metadata": {},
   "outputs": [],
   "source": [
    "de_train = copy.deepcopy(df_train[df_train.COUNTRY == 'DE'].drop('COUNTRY',axis=1))\n",
    "fr_train = copy.deepcopy(df_train[df_train.COUNTRY == 'FR'].drop('COUNTRY',axis=1))\n",
    "\n",
    "de_test = copy.deepcopy(df_test[df_test.COUNTRY == 'DE'].drop('COUNTRY',axis=1))\n",
    "fr_test = copy.deepcopy(df_test[df_test.COUNTRY == 'FR'].drop('COUNTRY',axis=1))\n",
    "\n",
    "\n",
    "fr_df_features = fr_train[['FR_HYDRO', 'EXP_FR_NUCLEAR', 'DE_FR_EXCHANGE',\n",
    "       'DE_NET_EXPORT', 'FR_NET_IMPORT', 'FR_COAL', 'COAL_RET', 'CUM_WINDPOW', 'CUM_WIND']]\n",
    "de_df_features = de_train[['EXP_DE_LIGNITE', 'EXP_DE_RAIN', 'FR_TEMP',\n",
    " 'FR_NET_EXPORT', 'DE_NET_EXPORT', 'FR_RAIN',\n",
    " 'FR_DE_EXCHANGE', 'EXP_DE_GAS', 'DE_COAL',\n",
    " 'FR_RESIDUAL_LOAD', 'CUM_WINDPOW', 'CUM_WIND']]\n",
    "\n",
    "fr_test_features = fr_test[['FR_HYDRO', 'EXP_FR_NUCLEAR', 'DE_FR_EXCHANGE',\n",
    "       'DE_NET_EXPORT', 'FR_NET_IMPORT', 'FR_COAL', 'COAL_RET', 'CUM_WINDPOW', 'CUM_WIND']]\n",
    "de_test_features = de_test[['EXP_DE_LIGNITE', 'EXP_DE_RAIN', 'FR_TEMP',\n",
    " 'FR_NET_EXPORT', 'DE_NET_EXPORT', 'FR_RAIN',\n",
    " 'FR_DE_EXCHANGE', 'EXP_DE_GAS', 'DE_COAL',\n",
    " 'FR_RESIDUAL_LOAD', 'CUM_WINDPOW', 'CUM_WIND']]\n",
    "\n",
    "fr_data = fr_df_features.to_numpy()\n",
    "de_data = de_df_features.to_numpy()\n",
    "\n",
    "fr_pred, fr_pred_test = lasso_reg(fr_data,df_y_train,fr_df_features,fr_test_features)\n",
    "de_pred, de_pred_test = lasso_reg(de_data,df_y_train,de_df_features,de_test_features)\n",
    "\n",
    "\n",
    "# Selected features that will be added to the final model\n",
    "features = ['FR_DE_EXCHANGE', 'DE_NET_EXPORT', 'FR_RENEWABLE',\n",
    "        'FR_HYDRO', 'FR_NUCLEAR', 'DE_SOLAR', 'DE_WINDPOW',\n",
    "        'FR_WINDPOW','DE_RAIN', 'DE_NUCLEAR', 'FR_COAL',\n",
    "        'CUM_RAIN','DE_COAL']\n",
    "\n",
    "\n",
    "last = df_train[features]\n",
    "last_test = df_test[features]\n",
    "\n",
    "last['pred'] = np.nan\n",
    "last_test['pred'] = np.nan\n",
    "\n",
    "#goes through all the rows and checks if its in the FR or the DE predictions and replaces with its value\n",
    "for i in last.index:\n",
    "    if i in list(fr_pred.index):\n",
    "        last['pred'].loc[i] = fr_pred.loc[i]\n",
    "    elif i in list(de_pred.index):\n",
    "        last['pred'].loc[i] = de_pred.loc[i]\n",
    "else:\n",
    "    print(\"Allocated all values to their appropriate indexes successfully !\")\n",
    "\n",
    "for i in last_test.index:\n",
    "    if i in list(fr_pred_test.index):\n",
    "        last_test['pred'].loc[i] = fr_pred_test.loc[i]\n",
    "    elif i in list(de_pred_test.index):\n",
    "        last_test['pred'].loc[i] = de_pred_test.loc[i]\n",
    "else:\n",
    "    print(\"Allocated all values to their appropriate indexes successfully !\")\n",
    "    \n",
    "\n",
    "model_ridge = RidgeCV(alphas=np.array([i for i in np.arange(1/1000,1,1/1000)]), fit_intercept=True, cv=20)\n",
    "results_ridge = model_ridge.fit(last.to_numpy(),df_y_train.to_numpy())\n",
    "\n",
    "pred_train = pd.Series(model_ridge.predict(last.to_numpy()),index=last.index)\n",
    "pred_test = pd.Series(model_ridge.predict(last_test.to_numpy()),index=last_test.index)\n",
    "\n",
    "plt.plot(pred_train.reset_index(drop=True).cumsum(),'b')\n",
    "plt.plot(pred_val.reset_index(drop=True).cumsum())\n",
    "plt.plot(df_y_train.reset_index(drop=True).cumsum(),'g')\n",
    "plt.show()\n",
    "\n",
    "plt.plot(pred_test.reset_index(drop=True).cumsum())"
   ]
  },
  {
   "attachments": {},
   "cell_type": "markdown",
   "metadata": {},
   "source": [
    "## IV - Final Run"
   ]
  },
  {
   "attachments": {},
   "cell_type": "markdown",
   "metadata": {},
   "source": [
    "We were hoping that the previous model would score the best, but sadly, it didn't. \n",
    "\n",
    "And so, we decide to go for a simple ridge regression using a set of selected features from previous results and see where it will take us."
   ]
  },
  {
   "cell_type": "code",
   "execution_count": null,
   "metadata": {},
   "outputs": [],
   "source": [
    "# Selected features \n",
    "features = ['FR_DE_EXCHANGE', 'DE_NET_EXPORT', 'FR_RENEWABLE',\n",
    "            'FR_HYDRO', 'FR_NUCLEAR', 'DE_SOLAR', 'DE_WINDPOW',\n",
    "            'FR_WINDPOW','DE_RAIN', 'DE_NUCLEAR', 'FR_COAL',\n",
    "            'CUM_RAIN','DE_COAL']\n",
    "\n",
    "last = df_train[features]\n",
    "last_test = df_test[features]\n",
    "\n",
    "model_ridge = RidgeCV(alphas=np.array([i for i in np.arange(1/1000,1,1/1000)]), fit_intercept=True, cv=20)\n",
    "results_ridge = model_ridge.fit(last.to_numpy(),df_y_train.to_numpy())\n",
    "\n",
    "pred_train = pd.Series(model_ridge.predict(last.to_numpy()),index=last.index)\n",
    "pred_test = pd.Series(model_ridge.predict(last_test.to_numpy()),index=last_test.index)\n",
    "\n",
    "plt.plot(pred_train.reset_index(drop=True).cumsum(),'b')\n",
    "plt.plot(pred_val.reset_index(drop=True).cumsum())\n",
    "plt.plot(df_y_train.reset_index(drop=True).cumsum(),'g')\n",
    "plt.show()\n",
    "\n",
    "plt.plot(pred_test.reset_index(drop=True).cumsum())"
   ]
  },
  {
   "cell_type": "code",
   "execution_count": null,
   "metadata": {},
   "outputs": [],
   "source": [
    "df=(pred_test).to_frame(name='test').reset_index(drop=True)\n",
    "df['train'] = (pred_train).to_frame().reset_index(drop=True)\n",
    "df['y'] = df_y_train.reset_index(drop=True)\n",
    "sns.pairplot(df)\n"
   ]
  },
  {
   "cell_type": "code",
   "execution_count": null,
   "metadata": {},
   "outputs": [],
   "source": [
    "# Compute Spearman Rank Correlation\n",
    "spearman_train = spearmanr(df_y_train, pred_train)\n",
    "print(\"Spearman rank score on train dataset : %.4f\" % (spearman_train.correlation))\n",
    "\n",
    "# MSE\n",
    "mse_train = mean_squared_error(pred_train, df_y_train)\n",
    "print(\"MSE score on train dataset : %.4f\" % mse_train)"
   ]
  },
  {
   "attachments": {},
   "cell_type": "markdown",
   "metadata": {},
   "source": [
    "We notice similarities between the distribution of the target and that of the test set. And given the results (MSE & Spearman), we can say that this model can effectively predict with at least 20% accuracy."
   ]
  },
  {
   "attachments": {},
   "cell_type": "markdown",
   "metadata": {},
   "source": [
    "## V - Interpretation & Conclusion"
   ]
  },
  {
   "attachments": {},
   "cell_type": "markdown",
   "metadata": {},
   "source": [
    "Throughout this challenge, we took various approaches, some returned better results, but the overall challenge was very instructive.\n",
    "\n",
    "We started with a simple linear regression, penalized regressions, signals, used PCA factors as inputs in penalized regressions. We also corrected the data, got rid of all the outliers and used interpolation to fill the missing values.\n",
    "\n",
    "The various tried approches were explained and sadly didn't perform very well. We had to resort to simple approches in the end that surprisingly returned better results.\n",
    "\n",
    "-> This raises the question of why ? \n",
    "The reasons can be related to the dataset being obscure, not being a timeseries, not having more info on the data. Maybe the entire approach we had in feature selection wasn't correct and that maybe we needed to rank the observations given their values and analyse them starting from there."
   ]
  }
 ],
 "metadata": {
  "anaconda-cloud": {},
  "kernelspec": {
   "display_name": "Python 3",
   "language": "python",
   "name": "python3"
  },
  "language_info": {
   "codemirror_mode": {
    "name": "ipython",
    "version": 3
   },
   "file_extension": ".py",
   "mimetype": "text/x-python",
   "name": "python",
   "nbconvert_exporter": "python",
   "pygments_lexer": "ipython3",
   "version": "3.9.13"
  },
  "vscode": {
   "interpreter": {
    "hash": "98fd2348db8c300cd9cc029810f780f8ae8d5c9ef0b7c3c4ad63c8a7ecc5adc7"
   }
  }
 },
 "nbformat": 4,
 "nbformat_minor": 1
}
